{
 "cells": [
  {
   "cell_type": "markdown",
   "id": "8d866fd3-a6c9-47b1-85ed-69296eb5fb36",
   "metadata": {},
   "source": [
    "#                           Data Structure Assignment"
   ]
  },
  {
   "cell_type": "markdown",
   "id": "5cdbb5da-6f47-4ef7-9bff-c990b81bab4a",
   "metadata": {},
   "source": [
    "## 1. Discuss string slicing and provide examples"
   ]
  },
  {
   "cell_type": "markdown",
   "id": "df778208-8eb3-43c6-acc7-e28499f31c80",
   "metadata": {},
   "source": [
    "Python slicing is about obtaining a sub-string from the given string by slicing it respectively from start to end.Slicing is  done using the slicing syntax: string [start : end] or [start:end:steps]"
   ]
  },
  {
   "cell_type": "code",
   "execution_count": 1,
   "id": "803c22f5-f2f3-4c8f-a15a-c84b3ddbc3a2",
   "metadata": {},
   "outputs": [
    {
     "name": "stdout",
     "output_type": "stream",
     "text": [
      "antima\n"
     ]
    }
   ],
   "source": [
    "# Basic Slicing\n",
    "\n",
    "text = \"antima nakhat\"\n",
    "print(text[0:6])"
   ]
  },
  {
   "cell_type": "code",
   "execution_count": 4,
   "id": "275b945e-76e1-4fbc-b9a5-93cea5bfb9d2",
   "metadata": {},
   "outputs": [
    {
     "name": "stdout",
     "output_type": "stream",
     "text": [
      "antima\n",
      "nakhat\n"
     ]
    }
   ],
   "source": [
    "# Omitting Index\n",
    "\n",
    "text = \"antima nakhat\"\n",
    "print(text[:6])\n",
    "print(text[7:])"
   ]
  },
  {
   "cell_type": "code",
   "execution_count": 10,
   "id": "6137b826-2d62-41c9-823f-62d97ea72a1c",
   "metadata": {},
   "outputs": [
    {
     "name": "stdout",
     "output_type": "stream",
     "text": [
      "antim\n"
     ]
    }
   ],
   "source": [
    "# Negative Indxing\n",
    "\n",
    "text = \"antima nakhat\"\n",
    "print(text[-13:-8])"
   ]
  },
  {
   "cell_type": "code",
   "execution_count": 14,
   "id": "305501b7-0889-471c-b5fe-bb2718866a74",
   "metadata": {},
   "outputs": [
    {
     "name": "stdout",
     "output_type": "stream",
     "text": [
      "atm aht\n",
      "nmnh\n"
     ]
    }
   ],
   "source": [
    "# Step Value\n",
    "\n",
    "text = \"antima nakhat\"\n",
    "print(text[::2])\n",
    "print(text[1::3])"
   ]
  },
  {
   "cell_type": "code",
   "execution_count": 15,
   "id": "43f30dd3-12ef-4013-ae8a-98c4fa43fd1b",
   "metadata": {},
   "outputs": [
    {
     "name": "stdout",
     "output_type": "stream",
     "text": [
      "tahkan amitna\n"
     ]
    }
   ],
   "source": [
    "# Reversing String\n",
    "\n",
    "text = \"antima nakhat\"\n",
    "print(text[::-1])"
   ]
  },
  {
   "cell_type": "code",
   "execution_count": 16,
   "id": "b4b295d6-bedc-4453-abfb-900e1939d92a",
   "metadata": {},
   "outputs": [
    {
     "name": "stdout",
     "output_type": "stream",
     "text": [
      "nka\n"
     ]
    }
   ],
   "source": [
    "# Combining Start,End,Step\n",
    "\n",
    "text = \"antima nakhat\"\n",
    "print(text[7:13:2])"
   ]
  },
  {
   "cell_type": "markdown",
   "id": "2b0d529e-e74e-4781-8bf6-1f2d97e9a90e",
   "metadata": {},
   "source": [
    "## 2. Explain the key features of lists in Python"
   ]
  },
  {
   "cell_type": "markdown",
   "id": "adf88b1e-7042-41b0-b095-19c742cba8f2",
   "metadata": {},
   "source": [
    "- Lists are ordered and iterable\n",
    "- Lists elements can be accessed by index\n",
    "- Lists can be nested to arbitrary depth\n",
    "- Lists are mutable and dynamic\n",
    "- Lists can contain heterogeneous elements\n",
    "- Lists come with a variety of built-in methods , such as appending, inserting, removing, sorting, and reversing elements."
   ]
  },
  {
   "cell_type": "markdown",
   "id": "49973c6a-b653-404e-8720-d23b4eaf395d",
   "metadata": {},
   "source": [
    "## 3.  Describe how to access, modify, and delete elements in a list with examples"
   ]
  },
  {
   "cell_type": "markdown",
   "id": "0f932bc2-9366-4b60-bc93-b0c58978f3d4",
   "metadata": {},
   "source": [
    "### Accessing Elements"
   ]
  },
  {
   "cell_type": "code",
   "execution_count": 20,
   "id": "a2cd1552-e6ce-4f07-a4bb-83b7f41be6bb",
   "metadata": {},
   "outputs": [
    {
     "name": "stdout",
     "output_type": "stream",
     "text": [
      "antima\n"
     ]
    }
   ],
   "source": [
    "# Indexing\n",
    "\n",
    "l = [14,22.5,True,\"antima\",{1,2,5},[5,8]]\n",
    "print(l[3])"
   ]
  },
  {
   "cell_type": "code",
   "execution_count": 25,
   "id": "453dda7f-da2e-4fdf-976e-11ba1f565b2f",
   "metadata": {},
   "outputs": [
    {
     "name": "stdout",
     "output_type": "stream",
     "text": [
      "antim\n"
     ]
    }
   ],
   "source": [
    "# Slicing\n",
    "\n",
    "l = [14,22.5,True,\"antima\",{1,2,5},[5,8],\"neha\"]\n",
    "print(l[3][:5])"
   ]
  },
  {
   "cell_type": "markdown",
   "id": "9e1bd868-5a0c-417e-9be5-c40d50e13f43",
   "metadata": {},
   "source": [
    "### Modifying Elements"
   ]
  },
  {
   "cell_type": "code",
   "execution_count": 31,
   "id": "a5523ae5-1956-4423-9e22-54c00844f1af",
   "metadata": {},
   "outputs": [
    {
     "name": "stdout",
     "output_type": "stream",
     "text": [
      "[14, 22.5, True, 'antima', {1, 2, 5}, [5, 8], ['suman']]\n"
     ]
    }
   ],
   "source": [
    "# Single Element\n",
    "\n",
    "l = [14,22.5,True,\"antima\",{1,2,5},[5,8],\"neha\"]\n",
    "l[6] = [\"suman\"]\n",
    "print(l)"
   ]
  },
  {
   "cell_type": "code",
   "execution_count": 2,
   "id": "ae8e57cc-96aa-4c4e-898d-bbebec0af313",
   "metadata": {},
   "outputs": [
    {
     "name": "stdout",
     "output_type": "stream",
     "text": [
      "[14, 22.5, True, 'antima', {1, 2, 5}, [7, 6, 1], 'neha']\n"
     ]
    }
   ],
   "source": [
    "# Multiple Elements(using slicing)\n",
    "\n",
    "l = [14,22.5,True,\"antima\",{1,2,5},[5,3,8],\"neha\"]\n",
    "l[5][:3] = [7,6,1]\n",
    "print(l)"
   ]
  },
  {
   "cell_type": "code",
   "execution_count": 1,
   "id": "d17a675b-fd4c-4e35-936f-df675f1fd1b9",
   "metadata": {},
   "outputs": [
    {
     "name": "stdout",
     "output_type": "stream",
     "text": [
      "[14, 22.5, True, 'antima', {1, 2, 5}, [5, 3, 8], 'neha', 2001]\n"
     ]
    }
   ],
   "source": [
    "# Appending Elements\n",
    "\n",
    "l = [14,22.5,True,\"antima\",{1,2,5},[5,3,8],\"neha\"]\n",
    "l.append(2001)\n",
    "print(l)"
   ]
  },
  {
   "cell_type": "code",
   "execution_count": 2,
   "id": "1662c4ce-206a-4bb2-a206-711d31a35142",
   "metadata": {},
   "outputs": [
    {
     "name": "stdout",
     "output_type": "stream",
     "text": [
      "[14, 5, 22.5, True, 'antima', {1, 2, 5}, [5, 3, 8], 'neha']\n"
     ]
    }
   ],
   "source": [
    "# Insering Elements\n",
    "\n",
    "l = [14,22.5,True,\"antima\",{1,2,5},[5,3,8],\"neha\"]\n",
    "l.insert(1,5)\n",
    "print(l)"
   ]
  },
  {
   "cell_type": "markdown",
   "id": "c173f933-d740-4251-ac23-d2500423b92a",
   "metadata": {},
   "source": [
    "### Deleing Elements"
   ]
  },
  {
   "cell_type": "code",
   "execution_count": 3,
   "id": "78724550-506d-4afd-868a-fa799a6f30fa",
   "metadata": {},
   "outputs": [
    {
     "name": "stdout",
     "output_type": "stream",
     "text": [
      "[14, True, 'antima', {1, 2, 5}, [5, 3, 8], 'neha']\n"
     ]
    }
   ],
   "source": [
    "# Using del Statement\n",
    "\n",
    "l = [14,22.5,True,\"antima\",{1,2,5},[5,3,8],\"neha\"]\n",
    "del l [1]\n",
    "print(l)"
   ]
  },
  {
   "cell_type": "code",
   "execution_count": 5,
   "id": "a33e9d8e-4ac8-44de-951a-2f5b2ca18dc7",
   "metadata": {},
   "outputs": [
    {
     "name": "stdout",
     "output_type": "stream",
     "text": [
      "[14, 22.5, True, 'antima', {1, 2, 5}, [5, 3, 8]]\n"
     ]
    }
   ],
   "source": [
    "# Using pop() Method\n",
    "\n",
    "l = [14,22.5,True,\"antima\",{1,2,5},[5,3,8],\"neha\"]\n",
    "l.pop()\n",
    "print(l)"
   ]
  },
  {
   "cell_type": "code",
   "execution_count": 6,
   "id": "d36788bd-a76e-4742-a5e2-7c9b6421af42",
   "metadata": {},
   "outputs": [
    {
     "name": "stdout",
     "output_type": "stream",
     "text": [
      "[14, 22.5, True, 'antima', [5, 3, 8], 'neha']\n"
     ]
    }
   ],
   "source": [
    "# Using pop() Method ( if index is specified)\n",
    "\n",
    "l = [14,22.5,True,\"antima\",{1,2,5},[5,3,8],\"neha\"]\n",
    "l.pop(4)\n",
    "print(l)"
   ]
  },
  {
   "cell_type": "code",
   "execution_count": 8,
   "id": "ba6fad8e-a581-4214-b00c-90e82ea23732",
   "metadata": {},
   "outputs": [
    {
     "name": "stdout",
     "output_type": "stream",
     "text": [
      "[14, 22.5, 'antima', {1, 2, 5}, [5, 3, 8], 'neha']\n"
     ]
    }
   ],
   "source": [
    "# Using remove() Method\n",
    "\n",
    "l = [14,22.5,True,\"antima\",{1,2,5},[5,3,8],\"neha\"]\n",
    "l.remove(True)\n",
    "print(l)"
   ]
  },
  {
   "cell_type": "code",
   "execution_count": 12,
   "id": "43850fba-e945-46f4-901c-ea577626a932",
   "metadata": {},
   "outputs": [
    {
     "name": "stdout",
     "output_type": "stream",
     "text": [
      "[14, 'neha']\n"
     ]
    }
   ],
   "source": [
    "# Using Slicing\n",
    "\n",
    "l = [14,22.5,True,\"antima\",{1,2,5},[5,3,8],\"neha\"]\n",
    "l[1:6] = []\n",
    "print(l)"
   ]
  },
  {
   "cell_type": "markdown",
   "id": "5c714f33-cf7d-4476-9d38-6e5ab51353b4",
   "metadata": {},
   "source": [
    "## 4.  Compare and contrast tuples and lists with examples"
   ]
  },
  {
   "cell_type": "markdown",
   "id": "22f97b00-fd45-4e12-a806-955053e59150",
   "metadata": {},
   "source": [
    "### Similarities"
   ]
  },
  {
   "cell_type": "markdown",
   "id": "95879c0b-ec0d-4ce5-9325-f3be28cf0860",
   "metadata": {},
   "source": [
    "- Both maintain the order of elements."
   ]
  },
  {
   "cell_type": "code",
   "execution_count": 16,
   "id": "50ee6ac6-cc7b-41ba-b47a-2396eb11fec8",
   "metadata": {},
   "outputs": [
    {
     "name": "stdout",
     "output_type": "stream",
     "text": [
      "1\n",
      "1\n"
     ]
    }
   ],
   "source": [
    "l = [1,2,3]\n",
    "t = (1, 2, 3)\n",
    "print(l[0])  \n",
    "print(t[0])"
   ]
  },
  {
   "cell_type": "markdown",
   "id": "3b26690c-05d0-49c3-a8c8-addd011e6ad8",
   "metadata": {},
   "source": [
    "- Both can store Heterogeneous  elements"
   ]
  },
  {
   "cell_type": "code",
   "execution_count": 24,
   "id": "add9bfe6-6159-4163-bd1c-c359d0f6e32c",
   "metadata": {},
   "outputs": [],
   "source": [
    "l = [1, \"Hello\", 3.14,True]\n",
    "t = (1, \"Hello\", 3.14,True)"
   ]
  },
  {
   "cell_type": "code",
   "execution_count": 20,
   "id": "70b48d47-a9e2-412c-ae76-6eff9864e38d",
   "metadata": {},
   "outputs": [
    {
     "data": {
      "text/plain": [
       "[1, 'Hello', 3.14, True]"
      ]
     },
     "execution_count": 20,
     "metadata": {},
     "output_type": "execute_result"
    }
   ],
   "source": [
    "l"
   ]
  },
  {
   "cell_type": "code",
   "execution_count": 21,
   "id": "7aa0ded1-dea2-470a-b707-a9242cd306e3",
   "metadata": {},
   "outputs": [
    {
     "data": {
      "text/plain": [
       "(1, 'Hello', 3.14, True)"
      ]
     },
     "execution_count": 21,
     "metadata": {},
     "output_type": "execute_result"
    }
   ],
   "source": [
    "t"
   ]
  },
  {
   "cell_type": "markdown",
   "id": "db4d083e-aac6-4b00-bb05-25b6a2398ae2",
   "metadata": {},
   "source": [
    "- Both support indexing and slicing"
   ]
  },
  {
   "cell_type": "code",
   "execution_count": 25,
   "id": "f46e27b4-ccc9-4b34-8bf0-2394b4df13e5",
   "metadata": {},
   "outputs": [
    {
     "name": "stdout",
     "output_type": "stream",
     "text": [
      "[2, 3]\n",
      "(2, 3)\n"
     ]
    }
   ],
   "source": [
    "l = [1,2,3,4,5]\n",
    "t = (1,2,3,4,5)\n",
    "print(l [1:3])\n",
    "print(t[1:3])"
   ]
  },
  {
   "cell_type": "markdown",
   "id": "6af8a795-f4af-4618-8062-7c2128101b8b",
   "metadata": {},
   "source": [
    "### Differences:"
   ]
  },
  {
   "cell_type": "markdown",
   "id": "5e44cd9a-e6aa-482c-a759-b8e5b99dfa0e",
   "metadata": {},
   "source": [
    "1) Mutability: \n",
    "\n",
    "- Tuples are immutable, means once created, their elements cannot be changed, added, or removed as possible in list"
   ]
  },
  {
   "cell_type": "code",
   "execution_count": 26,
   "id": "ea20cc77-9299-4d20-a2cc-ce3b0603a430",
   "metadata": {},
   "outputs": [
    {
     "name": "stdout",
     "output_type": "stream",
     "text": [
      "[14, 5, 22]\n"
     ]
    }
   ],
   "source": [
    "l = [14,5,2001]\n",
    "l[2] = 22\n",
    "print(l)"
   ]
  },
  {
   "cell_type": "code",
   "execution_count": 29,
   "id": "5f48ef49-e47e-4e05-b7ea-efe18d848b36",
   "metadata": {},
   "outputs": [
    {
     "ename": "TypeError",
     "evalue": "'tuple' object does not support item assignment",
     "output_type": "error",
     "traceback": [
      "\u001b[0;31m---------------------------------------------------------------------------\u001b[0m",
      "\u001b[0;31mTypeError\u001b[0m                                 Traceback (most recent call last)",
      "Cell \u001b[0;32mIn[29], line 2\u001b[0m\n\u001b[1;32m      1\u001b[0m t \u001b[38;5;241m=\u001b[39m (\u001b[38;5;241m14\u001b[39m,\u001b[38;5;241m5\u001b[39m,\u001b[38;5;241m2001\u001b[39m)\n\u001b[0;32m----> 2\u001b[0m \u001b[43mt\u001b[49m\u001b[43m[\u001b[49m\u001b[38;5;241;43m2\u001b[39;49m\u001b[43m]\u001b[49m \u001b[38;5;241m=\u001b[39m \u001b[38;5;241m23\u001b[39m   \u001b[38;5;66;03m# it will raise a TypeError\u001b[39;00m\n\u001b[1;32m      3\u001b[0m \u001b[38;5;28mprint\u001b[39m(t)\n",
      "\u001b[0;31mTypeError\u001b[0m: 'tuple' object does not support item assignment"
     ]
    }
   ],
   "source": [
    "t = (14,5,2001)\n",
    "t[2] = 23   # it will raise a TypeError\n",
    "print(t)"
   ]
  },
  {
   "cell_type": "markdown",
   "id": "f5d4825f-5edf-4349-9e95-eafd9b247f91",
   "metadata": {},
   "source": [
    "2) Syntax:\n",
    "\n",
    "- Lists are defined using square brackets []\n",
    "- Tuples are defined using parentheses ()"
   ]
  },
  {
   "cell_type": "markdown",
   "id": "477e5602-9a00-4352-9463-abc02377dea8",
   "metadata": {},
   "source": [
    "3) Methods:\n",
    "\n",
    "- Lists have a variety of built-in methods, such as append(), insert(), remove(), and pop().\n",
    "- Tuples have fewer built-in methods, mainly count() and index()"
   ]
  },
  {
   "cell_type": "code",
   "execution_count": 30,
   "id": "ffc0e21d-888c-4e01-bbfb-0b4e5b84b7c8",
   "metadata": {},
   "outputs": [
    {
     "name": "stdout",
     "output_type": "stream",
     "text": [
      "[1, 2, 5, 9, 7]\n"
     ]
    }
   ],
   "source": [
    "l = [1,2,5,9]\n",
    "l.append(7)\n",
    "print(l)"
   ]
  },
  {
   "cell_type": "code",
   "execution_count": 31,
   "id": "98047a8f-11a8-4b8b-9f93-eafd4b82a3dd",
   "metadata": {},
   "outputs": [
    {
     "name": "stdout",
     "output_type": "stream",
     "text": [
      "1\n"
     ]
    }
   ],
   "source": [
    "t = (1,2,5,9)\n",
    "print(t.count(5))"
   ]
  },
  {
   "cell_type": "markdown",
   "id": "db2d52a2-ee34-4708-b109-2e20a49e8ab0",
   "metadata": {},
   "source": [
    "4) Usage:\n",
    "\n",
    "- Lists are typically used when we need a mutable sequence that may change in size or content.\n",
    "- Tuples are often used for fixed collections of items, or when we want to ensure that the sequence cannot be modified."
   ]
  },
  {
   "cell_type": "markdown",
   "id": "67830e58-85e0-4363-937b-0bfd22727b1b",
   "metadata": {},
   "source": [
    "5) Performance:\n",
    "\n",
    "- Because of immutability of tuples it is slightly faster for iteration and use less memory than list.\n",
    "- Lists may have more overhead because of their mutable nature"
   ]
  },
  {
   "cell_type": "markdown",
   "id": "5d2d2acc-95e9-4010-ba8b-ec1dff66b2b1",
   "metadata": {},
   "source": [
    "## 5.  Describe the key features of sets and provide examples of their use"
   ]
  },
  {
   "cell_type": "markdown",
   "id": "0e332015-7626-4d0a-b81e-875727a53f68",
   "metadata": {},
   "source": [
    "1) Unordered: Sets do not maintain any particular order of elements. The elements may appear in any order."
   ]
  },
  {
   "cell_type": "code",
   "execution_count": 33,
   "id": "2e63c81e-e22a-42aa-bc8e-05bd8fc661d2",
   "metadata": {},
   "outputs": [
    {
     "data": {
      "text/plain": [
       "{3, 4, 8}"
      ]
     },
     "execution_count": 33,
     "metadata": {},
     "output_type": "execute_result"
    }
   ],
   "source": [
    "s = {3,8,4}\n",
    "s"
   ]
  },
  {
   "cell_type": "markdown",
   "id": "e554f19f-9842-4ef2-8f01-87c16e08b524",
   "metadata": {},
   "source": [
    "2) Unique Elements: Sets automatically eliminate duplicate elements."
   ]
  },
  {
   "cell_type": "code",
   "execution_count": 59,
   "id": "5495f829-02c7-4583-a219-fbe8c9017c0e",
   "metadata": {},
   "outputs": [
    {
     "data": {
      "text/plain": [
       "{1, 2, 3, 'apple', 'pea'}"
      ]
     },
     "execution_count": 59,
     "metadata": {},
     "output_type": "execute_result"
    }
   ],
   "source": [
    "list1 = {1,2,1,2,3,\"pea\",\"pea\",\"apple\"}\n",
    "list1"
   ]
  },
  {
   "cell_type": "markdown",
   "id": "3f688224-d009-4e84-a130-319e7ebac161",
   "metadata": {},
   "source": [
    "3) Mutable: Sets are mutable, meaning you can add or remove elements.\n",
    "However, the elements themselves must be immutable (e.g., numbers, strings, tuples)"
   ]
  },
  {
   "cell_type": "code",
   "execution_count": 50,
   "id": "365733c7-e4b9-46e5-a6aa-e04b31f3fee8",
   "metadata": {},
   "outputs": [
    {
     "name": "stdout",
     "output_type": "stream",
     "text": [
      "{1, 2, 3, 4, 5, 8}\n"
     ]
    }
   ],
   "source": [
    "s = {1,2,3,4,8}\n",
    "s.add(5)  # not complusory that it will add to last of set\n",
    "print(s)"
   ]
  },
  {
   "cell_type": "code",
   "execution_count": 51,
   "id": "4e681586-fd07-4c72-bbe8-7f5c6ae6af90",
   "metadata": {},
   "outputs": [
    {
     "data": {
      "text/plain": [
       "{2, 3, 4, 5, 8}"
      ]
     },
     "execution_count": 51,
     "metadata": {},
     "output_type": "execute_result"
    }
   ],
   "source": [
    "s.pop() # it is not compulsory that it will remove the last element\n",
    "s"
   ]
  },
  {
   "cell_type": "code",
   "execution_count": 53,
   "id": "db18f8b5-1c58-47a2-8384-5f0549246054",
   "metadata": {},
   "outputs": [
    {
     "data": {
      "text/plain": [
       "{2, 3, 5, 8}"
      ]
     },
     "execution_count": 53,
     "metadata": {},
     "output_type": "execute_result"
    }
   ],
   "source": [
    "s.remove(4)\n",
    "s"
   ]
  },
  {
   "cell_type": "markdown",
   "id": "fa795672-b13c-4664-ac2e-73bbd56408ed",
   "metadata": {},
   "source": [
    "4) No Indexing or Slicing: Because sets are unordered"
   ]
  },
  {
   "cell_type": "code",
   "execution_count": 37,
   "id": "4ff04f7c-d28e-490d-a4a1-634cd116446a",
   "metadata": {},
   "outputs": [
    {
     "ename": "TypeError",
     "evalue": "'set' object is not subscriptable",
     "output_type": "error",
     "traceback": [
      "\u001b[0;31m---------------------------------------------------------------------------\u001b[0m",
      "\u001b[0;31mTypeError\u001b[0m                                 Traceback (most recent call last)",
      "Cell \u001b[0;32mIn[37], line 2\u001b[0m\n\u001b[1;32m      1\u001b[0m s \u001b[38;5;241m=\u001b[39m {\u001b[38;5;241m1\u001b[39m,\u001b[38;5;241m2\u001b[39m,\u001b[38;5;241m3\u001b[39m}\n\u001b[0;32m----> 2\u001b[0m \u001b[38;5;28mprint\u001b[39m(\u001b[43ms\u001b[49m\u001b[43m[\u001b[49m\u001b[38;5;241;43m0\u001b[39;49m\u001b[43m]\u001b[49m) \u001b[38;5;66;03m# raise a TypeError\u001b[39;00m\n",
      "\u001b[0;31mTypeError\u001b[0m: 'set' object is not subscriptable"
     ]
    }
   ],
   "source": [
    "s = {1,2,3}\n",
    "print(s[0]) # raise a TypeError"
   ]
  },
  {
   "cell_type": "markdown",
   "id": "236228a2-4e8c-437b-8124-84592e48ea2d",
   "metadata": {},
   "source": [
    "5) Efficient Membership Testing: Sets provide efficient operations to check if an element is in the set"
   ]
  },
  {
   "cell_type": "code",
   "execution_count": 38,
   "id": "92e535d7-28f6-44f9-8f86-7ae380692901",
   "metadata": {},
   "outputs": [
    {
     "name": "stdout",
     "output_type": "stream",
     "text": [
      "True\n"
     ]
    }
   ],
   "source": [
    "s = {1,2,4,8,9}\n",
    "print( 2 in s)"
   ]
  },
  {
   "cell_type": "markdown",
   "id": "113d5cc5-f386-4171-af1e-a9d51067a84c",
   "metadata": {},
   "source": [
    "6) Set Operations: Sets support mathematical operations like union, intersection, difference, and symmetric difference"
   ]
  },
  {
   "cell_type": "code",
   "execution_count": 42,
   "id": "52087c0b-4a8b-4b98-a873-302af98afb94",
   "metadata": {},
   "outputs": [
    {
     "data": {
      "text/plain": [
       "{1, 2, 3, 4, 5}"
      ]
     },
     "execution_count": 42,
     "metadata": {},
     "output_type": "execute_result"
    }
   ],
   "source": [
    "s = {1,2,3}\n",
    "s1 = {3,4,5}\n",
    "\n",
    "s | s1 # Union"
   ]
  },
  {
   "cell_type": "code",
   "execution_count": 43,
   "id": "96870f6f-0ec3-44a1-9fa1-f073a9c7c4a9",
   "metadata": {},
   "outputs": [
    {
     "data": {
      "text/plain": [
       "{1, 2, 4, 5}"
      ]
     },
     "execution_count": 43,
     "metadata": {},
     "output_type": "execute_result"
    }
   ],
   "source": [
    "s = {1,2,3}\n",
    "s1 = {3,4,5}\n",
    "\n",
    "s ^ s1 # Symmetric difference"
   ]
  },
  {
   "cell_type": "code",
   "execution_count": 44,
   "id": "235c1520-365b-4546-81ec-69b93faf3337",
   "metadata": {},
   "outputs": [
    {
     "data": {
      "text/plain": [
       "{3}"
      ]
     },
     "execution_count": 44,
     "metadata": {},
     "output_type": "execute_result"
    }
   ],
   "source": [
    "s = {1,2,3}\n",
    "s1 = {3,4,5}\n",
    "\n",
    "s & s1 # intersection"
   ]
  },
  {
   "cell_type": "code",
   "execution_count": 45,
   "id": "7bab8387-3e2a-49df-8750-1ead69b9527e",
   "metadata": {},
   "outputs": [
    {
     "data": {
      "text/plain": [
       "{1, 2}"
      ]
     },
     "execution_count": 45,
     "metadata": {},
     "output_type": "execute_result"
    }
   ],
   "source": [
    "s = {1,2,3}\n",
    "s1 = {3,4,5}\n",
    "\n",
    "s - s1 # difference"
   ]
  },
  {
   "cell_type": "markdown",
   "id": "f9cc340a-b1f4-48b2-afe1-2b8011c9bcd2",
   "metadata": {},
   "source": [
    "- frozen sets: immutable version of set , cannot be added or revomed any new element"
   ]
  },
  {
   "cell_type": "code",
   "execution_count": 54,
   "id": "5c980f60-a371-4e3e-8201-b255106a9da6",
   "metadata": {},
   "outputs": [
    {
     "data": {
      "text/plain": [
       "frozenset({1, 2, 3, 4})"
      ]
     },
     "execution_count": 54,
     "metadata": {},
     "output_type": "execute_result"
    }
   ],
   "source": [
    "my_fs = frozenset([1,2,3,2,3,4])\n",
    "my_fs"
   ]
  },
  {
   "cell_type": "markdown",
   "id": "49e5a940-e6f9-4ce0-ab21-be769ce2ab18",
   "metadata": {},
   "source": [
    "- Removing Elements Safely: discard() is used to remove an element without raising an error if the element is not present."
   ]
  },
  {
   "cell_type": "code",
   "execution_count": 47,
   "id": "cef456e5-5b6f-44f2-bf21-5f0b4de67068",
   "metadata": {},
   "outputs": [
    {
     "name": "stdout",
     "output_type": "stream",
     "text": [
      "{1, 2, 3, 4}\n"
     ]
    }
   ],
   "source": [
    "s = {1,2,3,4}\n",
    "s.discard(5)\n",
    "print(s)"
   ]
  },
  {
   "cell_type": "markdown",
   "id": "6b22451f-ab89-441d-be1f-ec2f5eccb439",
   "metadata": {},
   "source": [
    "- Clearing a Set"
   ]
  },
  {
   "cell_type": "code",
   "execution_count": 48,
   "id": "a928265e-f38b-4167-8cfb-27465728e25b",
   "metadata": {},
   "outputs": [
    {
     "name": "stdout",
     "output_type": "stream",
     "text": [
      "set()\n"
     ]
    }
   ],
   "source": [
    "s = {1,2,3,4}\n",
    "s.clear()\n",
    "print(s)"
   ]
  },
  {
   "cell_type": "markdown",
   "id": "ef806421-e0ea-48a9-90cf-1acaf45712e0",
   "metadata": {},
   "source": [
    "- Iterating Over a Set"
   ]
  },
  {
   "cell_type": "code",
   "execution_count": 49,
   "id": "1244c946-5093-4928-8c98-51ec4cbccfc9",
   "metadata": {},
   "outputs": [
    {
     "name": "stdout",
     "output_type": "stream",
     "text": [
      "5\n",
      "6\n",
      "7\n",
      "8\n",
      "9\n"
     ]
    }
   ],
   "source": [
    "s = {5,8,7,9,6}\n",
    "for i in s :\n",
    "    print(i)"
   ]
  },
  {
   "cell_type": "markdown",
   "id": "b6ccf9a6-23ea-4c79-8fc1-d641fdcaa312",
   "metadata": {},
   "source": [
    "- Checking Subset and Superset"
   ]
  },
  {
   "cell_type": "code",
   "execution_count": 57,
   "id": "57079a66-b9f9-490a-ae53-23bb4a21d546",
   "metadata": {},
   "outputs": [
    {
     "name": "stdout",
     "output_type": "stream",
     "text": [
      "True\n",
      "True\n"
     ]
    }
   ],
   "source": [
    "a = {1,2,3}\n",
    "b = {1,2,3,4,5}\n",
    "\n",
    "print(a.issubset(b))\n",
    "print(b.issuperset(a))"
   ]
  },
  {
   "cell_type": "markdown",
   "id": "c2c294dc-4a18-46fd-a250-9c696a8fe447",
   "metadata": {},
   "source": [
    "## 6. Discuss the use cases of tuples and sets in Python programming"
   ]
  },
  {
   "cell_type": "markdown",
   "id": "37afeeb6-73e9-489e-8c98-e1642299acb1",
   "metadata": {},
   "source": [
    "Use cases of tuples:\n",
    "\n",
    "- Storing collections of items that do not change.\n",
    "- Returning multiple values from functions.\n",
    "- Using as keys in dictionaries.\n",
    "- Passing fixed-size data to functions.\n",
    "- Representing heterogeneous data.\n"
   ]
  },
  {
   "cell_type": "markdown",
   "id": "6754e705-28cc-401d-9e66-0ab3b97a9531",
   "metadata": {},
   "source": [
    "Use cases of sets:\n",
    "    \n",
    "- Storing unique items and eliminating duplicates.\n",
    "- Efficient membership testing.\n",
    "- Performing mathematical set operations.\n",
    "- Managing unordered collections.\n",
    "- Comparing and finding relationships between different sets."
   ]
  },
  {
   "cell_type": "markdown",
   "id": "cd8fea08-dfb5-4281-8bf9-178755826414",
   "metadata": {},
   "source": [
    "## 7. Describe how to add, modify, and delete items in a dictionary with examples"
   ]
  },
  {
   "cell_type": "markdown",
   "id": "2c3f72eb-0f6d-4b8a-8db7-9a26387f97b1",
   "metadata": {},
   "source": [
    "### Adding Items"
   ]
  },
  {
   "cell_type": "code",
   "execution_count": 9,
   "id": "08ff5135-479a-4955-b27b-00383514acec",
   "metadata": {},
   "outputs": [
    {
     "name": "stdout",
     "output_type": "stream",
     "text": [
      "{'name': 'antima', 'age': 82, 'qualification': 'BCA', 'height': 5.2}\n"
     ]
    }
   ],
   "source": [
    "# Adding a new Key-Value pair\n",
    "d = {'name':'antima','age':82,'qualification' : 'BCA'}\n",
    "d['height']= 5.2\n",
    "print(d)     "
   ]
  },
  {
   "cell_type": "code",
   "execution_count": 10,
   "id": "a04cb8ce-d43e-4ddd-8c48-4b17e1365aaa",
   "metadata": {},
   "outputs": [
    {
     "name": "stdout",
     "output_type": "stream",
     "text": [
      "{'name': 'antima', 'age': 82, 'qualification': 'BCA', 'height': 5.2, 'w': 46}\n"
     ]
    }
   ],
   "source": [
    "# Using update() method\n",
    "d = {'name':'antima','age':82,'qualification' : 'BCA'}\n",
    "d.update({'height':5.2 , \"w\" : 46})\n",
    "print(d)"
   ]
  },
  {
   "cell_type": "markdown",
   "id": "7f5d5228-459f-4fe7-8e98-c4516260f51d",
   "metadata": {},
   "source": [
    "### Modifying Items"
   ]
  },
  {
   "cell_type": "code",
   "execution_count": 11,
   "id": "29ede1fd-8027-43e3-af05-d95663ab2051",
   "metadata": {},
   "outputs": [
    {
     "name": "stdout",
     "output_type": "stream",
     "text": [
      "{'name': 'antima', 'age': 52, 'qualification': 'BCA'}\n"
     ]
    }
   ],
   "source": [
    "# Modifying an Existing Value\n",
    "d = {'name':'antima','age':82,'qualification' : 'BCA'}\n",
    "d['age']= 52\n",
    "print(d)"
   ]
  },
  {
   "cell_type": "code",
   "execution_count": 12,
   "id": "f1e5619d-486a-48fc-807d-b52bb878d2a9",
   "metadata": {},
   "outputs": [
    {
     "name": "stdout",
     "output_type": "stream",
     "text": [
      "{'name': 'antima', 'age': 92, 'qualification': 'BCA'}\n"
     ]
    }
   ],
   "source": [
    "# Using update() method\n",
    "d = {'name':'antima','age':82,'qualification' : 'BCA'}\n",
    "d.update({'age': 92})\n",
    "print(d)"
   ]
  },
  {
   "cell_type": "markdown",
   "id": "15364445-7abd-479a-b03f-542c2c70d9b3",
   "metadata": {},
   "source": [
    "### Deleting Items"
   ]
  },
  {
   "cell_type": "code",
   "execution_count": 13,
   "id": "4fb5fdd3-2028-4658-b75b-fd0dae2fdb0e",
   "metadata": {},
   "outputs": [
    {
     "name": "stdout",
     "output_type": "stream",
     "text": [
      "{'name': 'antima', 'qualification': 'BCA'}\n"
     ]
    }
   ],
   "source": [
    "# Using del ststement\n",
    "d = {'name':'antima','age':82,'qualification' : 'BCA'}\n",
    "del d['age']\n",
    "print(d)"
   ]
  },
  {
   "cell_type": "code",
   "execution_count": 14,
   "id": "3e394b35-3ff7-46a2-ba28-beac2e3a230c",
   "metadata": {},
   "outputs": [
    {
     "name": "stdout",
     "output_type": "stream",
     "text": [
      "{'name': ['sanjay', 'ajay', 1], 'contact': (11263, 7956)}\n"
     ]
    }
   ],
   "source": [
    "# Using pop() method :it Remove a key and return its value. If the key does not exist, you can provide a default value.\n",
    "d = {'name':[\"sanjay\",\"ajay\",1],\"email\": \"aj@mail.com\",\"contact\":(11263,7956)}\n",
    "d.pop(\"email\")\n",
    "print(d)"
   ]
  },
  {
   "cell_type": "code",
   "execution_count": 15,
   "id": "f1267833-a61f-4e7a-9d1b-35fb9913dd81",
   "metadata": {},
   "outputs": [
    {
     "name": "stdout",
     "output_type": "stream",
     "text": [
      "{}\n"
     ]
    }
   ],
   "source": [
    "# Using clear() method\n",
    "d = {'name':[\"sanjay\",\"ajay\",1],\"email\": \"aj@mail.com\",\"contact\":(11263,7956)}\n",
    "d.clear()\n",
    "print(d)"
   ]
  },
  {
   "cell_type": "markdown",
   "id": "01218571-4448-4fe9-bb86-23c28fecdc24",
   "metadata": {},
   "source": [
    "Using popitem() method : Remove and return the last inserted key-value pair. Useful for popping items from a dictionary"
   ]
  },
  {
   "cell_type": "code",
   "execution_count": 17,
   "id": "baa5ebf3-05de-4944-bb5d-99ad48de1f42",
   "metadata": {},
   "outputs": [
    {
     "name": "stdout",
     "output_type": "stream",
     "text": [
      "{'name': 'antima', 'age': 82}\n"
     ]
    }
   ],
   "source": [
    "d = {'name':'antima','age':82,'qualification' : 'BCA'}\n",
    "d.popitem()\n",
    "print(d)"
   ]
  },
  {
   "cell_type": "markdown",
   "id": "a0b7e3af-f1e7-4f96-897c-5c4f7d004a47",
   "metadata": {},
   "source": [
    "## 8. Discuss the importance of dictionary keys being immutable and provide examples"
   ]
  },
  {
   "cell_type": "markdown",
   "id": "b07a25a3-4b6e-496b-8db2-34dcaa788aed",
   "metadata": {},
   "source": [
    "Immutablity of dictionary keys is crucial for the efficiency and correctness of dictionaries, which rely on hashing to quickly access values.\n",
    "\n",
    "rules of defining keys:\n",
    "- key can be : integer, float, str, boolean,tuple\n",
    "- key cann't be : #,@,list,set,dict"
   ]
  },
  {
   "cell_type": "code",
   "execution_count": null,
   "id": "e16e50ca-622d-4359-94d6-a09f7ab09782",
   "metadata": {},
   "outputs": [],
   "source": []
  },
  {
   "cell_type": "markdown",
   "id": "5d16ceb5-69ea-4fb3-b44b-59be255f3b0d",
   "metadata": {},
   "source": [
    "Example of Immutable Keys"
   ]
  },
  {
   "cell_type": "code",
   "execution_count": 2,
   "id": "3db84294-10f9-4969-a2ed-752aa0241cba",
   "metadata": {},
   "outputs": [
    {
     "name": "stdout",
     "output_type": "stream",
     "text": [
      "anu\n"
     ]
    }
   ],
   "source": [
    "# Using String as Keys\n",
    "\n",
    "d = {\"name\":\"anu\",\"age\":5}\n",
    "print(d[\"name\"])"
   ]
  },
  {
   "cell_type": "code",
   "execution_count": 4,
   "id": "91c19322-5361-4d20-84d5-be2b455c4ab0",
   "metadata": {},
   "outputs": [
    {
     "name": "stdout",
     "output_type": "stream",
     "text": [
      " two and half\n"
     ]
    }
   ],
   "source": [
    "# Using Numbers (int , float) as keys\n",
    "\n",
    "d = {1 : \"one\" , 2.5 : \" two and half\"}\n",
    "print(d[2.5])"
   ]
  },
  {
   "cell_type": "code",
   "execution_count": 5,
   "id": "f6570146-06a2-4a42-b02a-233ad01ddf2b",
   "metadata": {},
   "outputs": [
    {
     "name": "stdout",
     "output_type": "stream",
     "text": [
      "point two\n"
     ]
    }
   ],
   "source": [
    "# Using Tuples as Keys\n",
    "\n",
    "d = {(1,1,): \"point one\",(2,2,2) : \"point two\"}\n",
    "print(d[(2,2,2)])"
   ]
  },
  {
   "cell_type": "code",
   "execution_count": 6,
   "id": "dd3c2307-a15f-4d75-b4be-9eb5a7c56c09",
   "metadata": {},
   "outputs": [
    {
     "name": "stdout",
     "output_type": "stream",
     "text": [
      "1\n"
     ]
    }
   ],
   "source": [
    "# Using Boolean as Keys\n",
    "\n",
    "d  = {True:1,False:0}\n",
    "print(d[True])"
   ]
  },
  {
   "cell_type": "markdown",
   "id": "b0edf738-69df-4469-ae22-6ced0160952d",
   "metadata": {},
   "source": [
    "Examples of Invalid Mutable Keys"
   ]
  },
  {
   "cell_type": "code",
   "execution_count": 12,
   "id": "421418e1-8f1f-4c79-be7b-186437ea23ce",
   "metadata": {},
   "outputs": [
    {
     "ename": "TypeError",
     "evalue": "unhashable type: 'set'",
     "output_type": "error",
     "traceback": [
      "\u001b[0;31m---------------------------------------------------------------------------\u001b[0m",
      "\u001b[0;31mTypeError\u001b[0m                                 Traceback (most recent call last)",
      "Cell \u001b[0;32mIn[12], line 3\u001b[0m\n\u001b[1;32m      1\u001b[0m \u001b[38;5;66;03m# Using Dictionary as Keys\u001b[39;00m\n\u001b[0;32m----> 3\u001b[0m d \u001b[38;5;241m=\u001b[39m {{\u001b[38;5;241m1\u001b[39m,\u001b[38;5;241m2\u001b[39m,\u001b[38;5;241m3\u001b[39m}: \u001b[38;5;124m\"\u001b[39m\u001b[38;5;124m one to three\u001b[39m\u001b[38;5;124m\"\u001b[39m , {\u001b[38;5;241m4\u001b[39m,\u001b[38;5;241m5\u001b[39m,\u001b[38;5;241m9\u001b[39m} :\u001b[38;5;124m\"\u001b[39m\u001b[38;5;124m four to nine\u001b[39m\u001b[38;5;124m\"\u001b[39m}\n\u001b[1;32m      4\u001b[0m \u001b[38;5;28mprint\u001b[39m(d)\n",
      "\u001b[0;31mTypeError\u001b[0m: unhashable type: 'set'"
     ]
    }
   ],
   "source": [
    "# Using Set as Keys\n",
    "\n",
    "d = {{1,2,3}: \" one to three\" , {4,5,9} :\" four to nine\"}  # raise a TypeError\n",
    "print(d)"
   ]
  },
  {
   "cell_type": "code",
   "execution_count": 15,
   "id": "2bc910cc-c665-4491-b032-dcb9fb1482c4",
   "metadata": {},
   "outputs": [
    {
     "ename": "TypeError",
     "evalue": "unhashable type: 'dict'",
     "output_type": "error",
     "traceback": [
      "\u001b[0;31m---------------------------------------------------------------------------\u001b[0m",
      "\u001b[0;31mTypeError\u001b[0m                                 Traceback (most recent call last)",
      "Cell \u001b[0;32mIn[15], line 3\u001b[0m\n\u001b[1;32m      1\u001b[0m \u001b[38;5;66;03m# Using Dictionary as Key\u001b[39;00m\n\u001b[0;32m----> 3\u001b[0m d \u001b[38;5;241m=\u001b[39m {{\u001b[38;5;241m1\u001b[39m : \u001b[38;5;124m'\u001b[39m\u001b[38;5;124ma\u001b[39m\u001b[38;5;124m'\u001b[39m , \u001b[38;5;241m2\u001b[39m : \u001b[38;5;124m'\u001b[39m\u001b[38;5;124mb\u001b[39m\u001b[38;5;124m'\u001b[39m}}\n\u001b[1;32m      4\u001b[0m \u001b[38;5;28mprint\u001b[39m(d)\n",
      "\u001b[0;31mTypeError\u001b[0m: unhashable type: 'dict'"
     ]
    }
   ],
   "source": [
    "# Using Dictionary as Key\n",
    "\n",
    "d = {{1 : 'a' , 2 : 'b'}} # raise a TypeError\n",
    "print(d)"
   ]
  },
  {
   "cell_type": "code",
   "execution_count": 17,
   "id": "64113471-4764-4e69-97ce-c02a5af1d73a",
   "metadata": {},
   "outputs": [
    {
     "ename": "TypeError",
     "evalue": "unhashable type: 'list'",
     "output_type": "error",
     "traceback": [
      "\u001b[0;31m---------------------------------------------------------------------------\u001b[0m",
      "\u001b[0;31mTypeError\u001b[0m                                 Traceback (most recent call last)",
      "Cell \u001b[0;32mIn[17], line 3\u001b[0m\n\u001b[1;32m      1\u001b[0m \u001b[38;5;66;03m# Using List as Key\u001b[39;00m\n\u001b[0;32m----> 3\u001b[0m d \u001b[38;5;241m=\u001b[39m {[\u001b[38;5;241m1\u001b[39m,\u001b[38;5;241m2\u001b[39m,\u001b[38;5;241m3\u001b[39m,\u001b[38;5;241m8\u001b[39m] : \u001b[38;5;124m\"\u001b[39m\u001b[38;5;124mlist as key\u001b[39m\u001b[38;5;124m\"\u001b[39m}  \u001b[38;5;66;03m# raise a TypeError\u001b[39;00m\n\u001b[1;32m      4\u001b[0m \u001b[38;5;28mprint\u001b[39m(d)\n",
      "\u001b[0;31mTypeError\u001b[0m: unhashable type: 'list'"
     ]
    }
   ],
   "source": [
    "# Using List as Key\n",
    "\n",
    "d = {[1,2,3,8] : \"list as key\"}  # raise a TypeError\n",
    "print(d)"
   ]
  }
 ],
 "metadata": {
  "kernelspec": {
   "display_name": "Python 3 (ipykernel)",
   "language": "python",
   "name": "python3"
  },
  "language_info": {
   "codemirror_mode": {
    "name": "ipython",
    "version": 3
   },
   "file_extension": ".py",
   "mimetype": "text/x-python",
   "name": "python",
   "nbconvert_exporter": "python",
   "pygments_lexer": "ipython3",
   "version": "3.10.8"
  }
 },
 "nbformat": 4,
 "nbformat_minor": 5
}
